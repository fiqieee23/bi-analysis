{
 "cells": [
  {
   "cell_type": "code",
   "execution_count": 4,
   "id": "aa0bca65-4b0f-4559-a332-289e6c67a06a",
   "metadata": {},
   "outputs": [],
   "source": [
    "import pandas as pd\n",
    "import matplotlib.pyplot as plt\n",
    "import seaborn as sns\n",
    "from sklearn.model_selection import train_test_split\n",
    "from sklearn.preprocessing import LabelEncoder\n",
    "from sklearn.linear_model import LogisticRegression\n",
    "from sklearn.ensemble import RandomForestClassifier\n",
    "from sklearn.svm import SVC\n",
    "from sklearn.metrics import classification_report, accuracy_score\n",
    "from sklearn.preprocessing import StandardScaler"
   ]
  },
  {
   "cell_type": "code",
   "execution_count": 5,
   "id": "247ad9fd-7cc8-490f-a9ba-52b077537b7e",
   "metadata": {},
   "outputs": [
    {
     "data": {
      "text/html": [
       "<div>\n",
       "<style scoped>\n",
       "    .dataframe tbody tr th:only-of-type {\n",
       "        vertical-align: middle;\n",
       "    }\n",
       "\n",
       "    .dataframe tbody tr th {\n",
       "        vertical-align: top;\n",
       "    }\n",
       "\n",
       "    .dataframe thead th {\n",
       "        text-align: right;\n",
       "    }\n",
       "</style>\n",
       "<table border=\"1\" class=\"dataframe\">\n",
       "  <thead>\n",
       "    <tr style=\"text-align: right;\">\n",
       "      <th></th>\n",
       "      <th>CustomerID</th>\n",
       "      <th>Tenure Months</th>\n",
       "      <th>Internet Service</th>\n",
       "      <th>Contract</th>\n",
       "      <th>Payment Method</th>\n",
       "      <th>Monthly Charges</th>\n",
       "      <th>Total Charges</th>\n",
       "      <th>Churn Label</th>\n",
       "    </tr>\n",
       "  </thead>\n",
       "  <tbody>\n",
       "    <tr>\n",
       "      <th>0</th>\n",
       "      <td>3668-QPYBK</td>\n",
       "      <td>2</td>\n",
       "      <td>DSL</td>\n",
       "      <td>Month-to-month</td>\n",
       "      <td>Mailed check</td>\n",
       "      <td>53.85</td>\n",
       "      <td>108.15</td>\n",
       "      <td>1</td>\n",
       "    </tr>\n",
       "    <tr>\n",
       "      <th>1</th>\n",
       "      <td>9237-HQITU</td>\n",
       "      <td>2</td>\n",
       "      <td>Fiber optic</td>\n",
       "      <td>Month-to-month</td>\n",
       "      <td>Electronic check</td>\n",
       "      <td>70.70</td>\n",
       "      <td>151.65</td>\n",
       "      <td>1</td>\n",
       "    </tr>\n",
       "    <tr>\n",
       "      <th>2</th>\n",
       "      <td>9305-CDSKC</td>\n",
       "      <td>8</td>\n",
       "      <td>Fiber optic</td>\n",
       "      <td>Month-to-month</td>\n",
       "      <td>Electronic check</td>\n",
       "      <td>99.65</td>\n",
       "      <td>820.50</td>\n",
       "      <td>1</td>\n",
       "    </tr>\n",
       "    <tr>\n",
       "      <th>3</th>\n",
       "      <td>7892-POOKP</td>\n",
       "      <td>28</td>\n",
       "      <td>Fiber optic</td>\n",
       "      <td>Month-to-month</td>\n",
       "      <td>Electronic check</td>\n",
       "      <td>104.80</td>\n",
       "      <td>3046.05</td>\n",
       "      <td>1</td>\n",
       "    </tr>\n",
       "    <tr>\n",
       "      <th>4</th>\n",
       "      <td>0280-XJGEX</td>\n",
       "      <td>49</td>\n",
       "      <td>Fiber optic</td>\n",
       "      <td>Month-to-month</td>\n",
       "      <td>Bank transfer (automatic)</td>\n",
       "      <td>103.70</td>\n",
       "      <td>5036.30</td>\n",
       "      <td>1</td>\n",
       "    </tr>\n",
       "    <tr>\n",
       "      <th>...</th>\n",
       "      <td>...</td>\n",
       "      <td>...</td>\n",
       "      <td>...</td>\n",
       "      <td>...</td>\n",
       "      <td>...</td>\n",
       "      <td>...</td>\n",
       "      <td>...</td>\n",
       "      <td>...</td>\n",
       "    </tr>\n",
       "    <tr>\n",
       "      <th>995</th>\n",
       "      <td>0177-PXBAT</td>\n",
       "      <td>33</td>\n",
       "      <td>Fiber optic</td>\n",
       "      <td>Month-to-month</td>\n",
       "      <td>Bank transfer (automatic)</td>\n",
       "      <td>109.90</td>\n",
       "      <td>3694.70</td>\n",
       "      <td>0</td>\n",
       "    </tr>\n",
       "    <tr>\n",
       "      <th>996</th>\n",
       "      <td>2519-ERQOJ</td>\n",
       "      <td>33</td>\n",
       "      <td>DSL</td>\n",
       "      <td>Month-to-month</td>\n",
       "      <td>Electronic check</td>\n",
       "      <td>54.60</td>\n",
       "      <td>1803.70</td>\n",
       "      <td>0</td>\n",
       "    </tr>\n",
       "    <tr>\n",
       "      <th>997</th>\n",
       "      <td>5876-QMYLD</td>\n",
       "      <td>23</td>\n",
       "      <td>No</td>\n",
       "      <td>One year</td>\n",
       "      <td>Mailed check</td>\n",
       "      <td>20.05</td>\n",
       "      <td>415.10</td>\n",
       "      <td>0</td>\n",
       "    </tr>\n",
       "    <tr>\n",
       "      <th>998</th>\n",
       "      <td>2277-AXSDC</td>\n",
       "      <td>32</td>\n",
       "      <td>No</td>\n",
       "      <td>One year</td>\n",
       "      <td>Bank transfer (automatic)</td>\n",
       "      <td>19.75</td>\n",
       "      <td>624.15</td>\n",
       "      <td>0</td>\n",
       "    </tr>\n",
       "    <tr>\n",
       "      <th>999</th>\n",
       "      <td>9442-JTWDL</td>\n",
       "      <td>11</td>\n",
       "      <td>No</td>\n",
       "      <td>One year</td>\n",
       "      <td>Credit card (automatic)</td>\n",
       "      <td>20.05</td>\n",
       "      <td>237.70</td>\n",
       "      <td>0</td>\n",
       "    </tr>\n",
       "  </tbody>\n",
       "</table>\n",
       "<p>1000 rows × 8 columns</p>\n",
       "</div>"
      ],
      "text/plain": [
       "     CustomerID  Tenure Months Internet Service        Contract  \\\n",
       "0    3668-QPYBK              2              DSL  Month-to-month   \n",
       "1    9237-HQITU              2      Fiber optic  Month-to-month   \n",
       "2    9305-CDSKC              8      Fiber optic  Month-to-month   \n",
       "3    7892-POOKP             28      Fiber optic  Month-to-month   \n",
       "4    0280-XJGEX             49      Fiber optic  Month-to-month   \n",
       "..          ...            ...              ...             ...   \n",
       "995  0177-PXBAT             33      Fiber optic  Month-to-month   \n",
       "996  2519-ERQOJ             33              DSL  Month-to-month   \n",
       "997  5876-QMYLD             23               No        One year   \n",
       "998  2277-AXSDC             32               No        One year   \n",
       "999  9442-JTWDL             11               No        One year   \n",
       "\n",
       "                Payment Method  Monthly Charges  Total Charges  Churn Label  \n",
       "0                 Mailed check            53.85         108.15            1  \n",
       "1             Electronic check            70.70         151.65            1  \n",
       "2             Electronic check            99.65         820.50            1  \n",
       "3             Electronic check           104.80        3046.05            1  \n",
       "4    Bank transfer (automatic)           103.70        5036.30            1  \n",
       "..                         ...              ...            ...          ...  \n",
       "995  Bank transfer (automatic)           109.90        3694.70            0  \n",
       "996           Electronic check            54.60        1803.70            0  \n",
       "997               Mailed check            20.05         415.10            0  \n",
       "998  Bank transfer (automatic)            19.75         624.15            0  \n",
       "999    Credit card (automatic)            20.05         237.70            0  \n",
       "\n",
       "[1000 rows x 8 columns]"
      ]
     },
     "execution_count": 5,
     "metadata": {},
     "output_type": "execute_result"
    }
   ],
   "source": [
    "df = pd.read_excel(r'C:\\Users\\user\\OneDrive\\Documents\\Sem 4\\Business Intelligence\\telco-churn-filtered.xlsx')\n",
    "df"
   ]
  },
  {
   "cell_type": "code",
   "execution_count": 6,
   "id": "6a507435-3a7a-4e70-aadf-665ad9ba73ac",
   "metadata": {},
   "outputs": [],
   "source": [
    "# Drop CustomerID\n",
    "df = df.drop('CustomerID', axis=1)\n",
    "\n",
    "# Identify features and target\n",
    "X = df.drop('Churn Label', axis=1)\n",
    "y = df['Churn Label']"
   ]
  },
  {
   "cell_type": "code",
   "execution_count": 7,
   "id": "d1954e3f-621b-478a-af2f-4e9f9b914d8e",
   "metadata": {},
   "outputs": [],
   "source": [
    "X = pd.get_dummies(X, columns=['Internet Service', 'Contract', 'Payment Method'], drop_first=True)"
   ]
  },
  {
   "cell_type": "code",
   "execution_count": 8,
   "id": "94cb77a1-b28c-4e5c-b42e-78a2f65eb1e1",
   "metadata": {},
   "outputs": [],
   "source": [
    "X_train, X_test, y_train, y_test = train_test_split(\n",
    "    X, y, test_size=0.2, random_state=42, stratify=y\n",
    ")"
   ]
  },
  {
   "cell_type": "code",
   "execution_count": 9,
   "id": "fe46b5cc-c5f8-45c6-8bbd-a12618f828f9",
   "metadata": {},
   "outputs": [],
   "source": [
    "scaler = StandardScaler()\n",
    "X_train_scaled = scaler.fit_transform(X_train)\n",
    "X_test_scaled = scaler.transform(X_test)"
   ]
  },
  {
   "cell_type": "code",
   "execution_count": 10,
   "id": "6429a512-f463-4492-8e1e-ece87d8589a6",
   "metadata": {},
   "outputs": [
    {
     "name": "stdout",
     "output_type": "stream",
     "text": [
      "Logistic Regression Accuracy: 0.85\n",
      "              precision    recall  f1-score   support\n",
      "\n",
      "           0       0.86      0.60      0.71        60\n",
      "           1       0.85      0.96      0.90       140\n",
      "\n",
      "    accuracy                           0.85       200\n",
      "   macro avg       0.85      0.78      0.80       200\n",
      "weighted avg       0.85      0.85      0.84       200\n",
      "\n"
     ]
    }
   ],
   "source": [
    "# Logistic Regression\n",
    "lr = LogisticRegression(max_iter=1000, solver='lbfgs')\n",
    "lr.fit(X_train_scaled, y_train)\n",
    "y_pred_lr = lr.predict(X_test_scaled)\n",
    "print(\"Logistic Regression Accuracy:\", accuracy_score(y_test, y_pred_lr))\n",
    "print(classification_report(y_test, y_pred_lr))"
   ]
  },
  {
   "cell_type": "code",
   "execution_count": 11,
   "id": "e7daab82-c7a7-4e11-9b59-a2a4935d30e0",
   "metadata": {},
   "outputs": [
    {
     "name": "stdout",
     "output_type": "stream",
     "text": [
      "Random Forest Accuracy: 0.82\n",
      "              precision    recall  f1-score   support\n",
      "\n",
      "           0       0.73      0.63      0.68        60\n",
      "           1       0.85      0.90      0.88       140\n",
      "\n",
      "    accuracy                           0.82       200\n",
      "   macro avg       0.79      0.77      0.78       200\n",
      "weighted avg       0.82      0.82      0.82       200\n",
      "\n"
     ]
    }
   ],
   "source": [
    "rf = RandomForestClassifier(n_estimators=100, random_state=42)\n",
    "rf.fit(X_train, y_train)\n",
    "y_pred_rf = rf.predict(X_test)\n",
    "print(\"Random Forest Accuracy:\", accuracy_score(y_test, y_pred_rf))\n",
    "print(classification_report(y_test, y_pred_rf))"
   ]
  },
  {
   "cell_type": "code",
   "execution_count": 12,
   "id": "41f5ce44-ecff-4af9-8a0d-9b31e3757ddf",
   "metadata": {},
   "outputs": [
    {
     "name": "stdout",
     "output_type": "stream",
     "text": [
      "SVM Accuracy: 0.86\n",
      "              precision    recall  f1-score   support\n",
      "\n",
      "           0       0.88      0.62      0.73        60\n",
      "           1       0.85      0.96      0.91       140\n",
      "\n",
      "    accuracy                           0.86       200\n",
      "   macro avg       0.87      0.79      0.82       200\n",
      "weighted avg       0.86      0.86      0.85       200\n",
      "\n"
     ]
    }
   ],
   "source": [
    "svc = SVC(kernel='rbf', random_state=42)\n",
    "svc.fit(X_train_scaled, y_train)\n",
    "y_pred_svc = svc.predict(X_test_scaled)\n",
    "print(\"SVM Accuracy:\", accuracy_score(y_test, y_pred_svc))\n",
    "print(classification_report(y_test, y_pred_svc))"
   ]
  },
  {
   "cell_type": "code",
   "execution_count": 13,
   "id": "7ac252ae-fd1c-41bb-acbc-27fd0ce4392a",
   "metadata": {},
   "outputs": [],
   "source": [
    "contract_churn = df.groupby('Contract')['Churn Label'].mean().reset_index()"
   ]
  },
  {
   "cell_type": "code",
   "execution_count": 14,
   "id": "b773fbc9-6133-423f-b390-0f427e1a2065",
   "metadata": {},
   "outputs": [
    {
     "data": {
      "image/png": "[encoded data removed]",
      "text/plain": [
       "<Figure size 700x500 with 1 Axes>"
      ]
     },
     "metadata": {},
     "output_type": "display_data"
    }
   ],
   "source": [
    "plt.figure(figsize=(7,5))\n",
    "sns.barplot(x='Contract', y='Churn Label', data=contract_churn, hue='Contract', palette='viridis', legend=False)\n",
    "plt.ylabel('Churn Rate')\n",
    "plt.xlabel('Contract Type')\n",
    "plt.title('Churn Rate by Contract Type')\n",
    "plt.ylim(0,1)\n",
    "plt.grid(axis='y', linestyle='--', alpha=0.7)\n",
    "plt.tight_layout()\n",
    "plt.show()"
   ]
  },
  {
   "cell_type": "code",
   "execution_count": 15,
   "id": "8b75cf4e-9757-429b-8fc9-86491e514020",
   "metadata": {},
   "outputs": [
    {
     "name": "stderr",
     "output_type": "stream",
     "text": [
      "C:\\Users\\user\\AppData\\Local\\Temp\\ipykernel_9572\\1042696776.py:2: FutureWarning: \n",
      "\n",
      "Passing `palette` without assigning `hue` is deprecated and will be removed in v0.14.0. Assign the `x` variable to `hue` and set `legend=False` for the same effect.\n",
      "\n",
      "  sns.boxplot(x='Churn Label', y='Monthly Charges', data=df, palette='Set2')\n"
     ]
    },
    {
     "data": {
      "image/png": "[encoded data removed]",
      "text/plain": [
       "<Figure size 800x500 with 1 Axes>"
      ]
     },
     "metadata": {},
     "output_type": "display_data"
    }
   ],
   "source": [
    "plt.figure(figsize=(8,5))\n",
    "sns.boxplot(x='Churn Label', y='Monthly Charges', data=df, palette='Set2')\n",
    "plt.xticks([0,1], ['No Churn', 'Churn'])\n",
    "plt.xlabel('Churn Status')\n",
    "plt.ylabel('Monthly Charges ($)')\n",
    "plt.title('Distribution of Monthly Charges by Churn Status')\n",
    "plt.tight_layout()\n",
    "plt.show()"
   ]
  },
  {
   "cell_type": "code",
   "execution_count": 44,
   "id": "6f44ae1d-cbff-4bb4-8a48-b6300495d4f6",
   "metadata": {},
   "outputs": [
    {
     "name": "stderr",
     "output_type": "stream",
     "text": [
      "C:\\Users\\user\\AppData\\Local\\Temp\\ipykernel_29592\\3765327185.py:6: FutureWarning: The default of observed=False is deprecated and will be changed to True in a future version of pandas. Pass observed=False to retain current behavior or observed=True to adopt the future default and silence this warning.\n",
      "  tenure_churn = df.groupby('TenureGroup')['Churn Label'].mean().reset_index()\n"
     ]
    },
    {
     "data": {
      "image/png": "[encoded data removed]",
      "text/plain": [
       "<Figure size 800x500 with 1 Axes>"
      ]
     },
     "metadata": {},
     "output_type": "display_data"
    }
   ],
   "source": [
    "bins = [0, 12, 24, 36, 48, 60, df['Tenure Months'].max()]\n",
    "labels = ['<12', '12-23', '24-35', '36-47', '48-59', '60+']\n",
    "df['TenureGroup'] = pd.cut(df['Tenure Months'], bins=bins, labels=labels, right=False)\n",
    "\n",
    "# Calculate churn rate by tenure group\n",
    "tenure_churn = df.groupby('TenureGroup')['Churn Label'].mean().reset_index()\n",
    "\n",
    "# Plot\n",
    "plt.figure(figsize=(8,5))\n",
    "plt.bar(tenure_churn['TenureGroup'], tenure_churn['Churn Label'], color='#4F81BD')\n",
    "plt.xlabel('Tenure Group (Months)')\n",
    "plt.ylabel('Churn Rate')\n",
    "plt.title('Churn Rate by Tenure Group')\n",
    "plt.ylim(0,1)\n",
    "plt.tight_layout()\n",
    "plt.show()"
   ]
  },
  {
   "cell_type": "code",
   "execution_count": null,
   "id": "b90e7273-5416-4bd2-8c3c-4e0c1117c85c",
   "metadata": {},
   "outputs": [],
   "source": []
  }
 ],
 "metadata": {
  "kernelspec": {
   "display_name": "Python 3 (ipykernel)",
   "language": "python",
   "name": "python3"
  },
  "language_info": {
   "codemirror_mode": {
    "name": "ipython",
    "version": 3
   },
   "file_extension": ".py",
   "mimetype": "text/x-python",
   "name": "python",
   "nbconvert_exporter": "python",
   "pygments_lexer": "ipython3",
   "version": "3.13.3"
  }
 },
 "nbformat": 4,
 "nbformat_minor": 5
}
